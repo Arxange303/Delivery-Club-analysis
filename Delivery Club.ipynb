{
 "cells": [
  {
   "cell_type": "code",
   "execution_count": 1,
   "metadata": {},
   "outputs": [],
   "source": []
  },
  {
   "cell_type": "code",
   "execution_count": null,
   "metadata": {},
   "outputs": [],
   "source": [
    "import pandas as pd\n",
    "import matplotlib.pyplot as plt \n"
   ]
  },
  {
   "cell_type": "code",
   "execution_count": 2,
   "metadata": {},
   "outputs": [
    {
     "data": {
      "text/html": [
       "<div>\n",
       "<style scoped>\n",
       "    .dataframe tbody tr th:only-of-type {\n",
       "        vertical-align: middle;\n",
       "    }\n",
       "\n",
       "    .dataframe tbody tr th {\n",
       "        vertical-align: top;\n",
       "    }\n",
       "\n",
       "    .dataframe thead th {\n",
       "        text-align: right;\n",
       "    }\n",
       "</style>\n",
       "<table border=\"1\" class=\"dataframe\">\n",
       "  <thead>\n",
       "    <tr style=\"text-align: right;\">\n",
       "      <th></th>\n",
       "      <th>cust_id</th>\n",
       "      <th>source</th>\n",
       "      <th>orders</th>\n",
       "      <th>ltv</th>\n",
       "    </tr>\n",
       "  </thead>\n",
       "  <tbody>\n",
       "    <tr>\n",
       "      <th>0</th>\n",
       "      <td>859</td>\n",
       "      <td>?utm_source=google&amp;utm_medium=cpc&amp;utm_campaign...</td>\n",
       "      <td>28</td>\n",
       "      <td>913</td>\n",
       "    </tr>\n",
       "    <tr>\n",
       "      <th>1</th>\n",
       "      <td>232</td>\n",
       "      <td>?utm_source=google&amp;utm_medium=cpc&amp;utm_campaign...</td>\n",
       "      <td>18</td>\n",
       "      <td>3157</td>\n",
       "    </tr>\n",
       "    <tr>\n",
       "      <th>2</th>\n",
       "      <td>2523</td>\n",
       "      <td>?utm_source=mytarget&amp;utm_medium=cpc&amp;utm_campai...</td>\n",
       "      <td>1</td>\n",
       "      <td>1208</td>\n",
       "    </tr>\n",
       "    <tr>\n",
       "      <th>3</th>\n",
       "      <td>4199</td>\n",
       "      <td>?utm_source=facebook&amp;utm_medium=cpc&amp;utm_campai...</td>\n",
       "      <td>36</td>\n",
       "      <td>-275</td>\n",
       "    </tr>\n",
       "    <tr>\n",
       "      <th>4</th>\n",
       "      <td>4069</td>\n",
       "      <td>?utm_source=facebook&amp;utm_medium=cpc&amp;utm_campai...</td>\n",
       "      <td>43</td>\n",
       "      <td>-210</td>\n",
       "    </tr>\n",
       "  </tbody>\n",
       "</table>\n",
       "</div>"
      ],
      "text/plain": [
       "   cust_id                                             source  orders   ltv\n",
       "0      859  ?utm_source=google&utm_medium=cpc&utm_campaign...      28   913\n",
       "1      232  ?utm_source=google&utm_medium=cpc&utm_campaign...      18  3157\n",
       "2     2523  ?utm_source=mytarget&utm_medium=cpc&utm_campai...       1  1208\n",
       "3     4199  ?utm_source=facebook&utm_medium=cpc&utm_campai...      36  -275\n",
       "4     4069  ?utm_source=facebook&utm_medium=cpc&utm_campai...      43  -210"
      ]
     },
     "execution_count": 2,
     "metadata": {},
     "output_type": "execute_result"
    }
   ],
   "source": [
    "df=pd.read_csv('data_test_mktg_anlst.csv',sep=';') # download\n",
    "df.head()"
   ]
  },
  {
   "cell_type": "markdown",
   "metadata": {},
   "source": [
    "# 1.  For each line, it is required to isolate the source, medium, campaign of the user\n"
   ]
  },
  {
   "cell_type": "code",
   "execution_count": 3,
   "metadata": {},
   "outputs": [
    {
     "name": "stderr",
     "output_type": "stream",
     "text": [
      "<ipython-input-3-8f326937d6b2>:5: FutureWarning: The default value of regex will change from True to False in a future version.\n",
      "  new_df[column]=new_df[column].str.replace(r'\\w+\\=','')\n",
      "<ipython-input-3-8f326937d6b2>:8: FutureWarning: The default value of regex will change from True to False in a future version. In addition, single character regular expressions will*not* be treated as literal strings when regex=True.\n",
      "  new_df['source']=new_df['source'].str.replace(r'?','')\n",
      "<ipython-input-3-8f326937d6b2>:11: FutureWarning: The default value of regex will change from True to False in a future version.\n",
      "  new_df['campaign']=new_df['campaign'].str.replace(r'\\w+age','')\n"
     ]
    },
    {
     "data": {
      "text/html": [
       "<div>\n",
       "<style scoped>\n",
       "    .dataframe tbody tr th:only-of-type {\n",
       "        vertical-align: middle;\n",
       "    }\n",
       "\n",
       "    .dataframe tbody tr th {\n",
       "        vertical-align: top;\n",
       "    }\n",
       "\n",
       "    .dataframe thead th {\n",
       "        text-align: right;\n",
       "    }\n",
       "</style>\n",
       "<table border=\"1\" class=\"dataframe\">\n",
       "  <thead>\n",
       "    <tr style=\"text-align: right;\">\n",
       "      <th></th>\n",
       "      <th>cust_id</th>\n",
       "      <th>orders</th>\n",
       "      <th>ltv</th>\n",
       "      <th>source</th>\n",
       "      <th>medium</th>\n",
       "      <th>campaign</th>\n",
       "    </tr>\n",
       "  </thead>\n",
       "  <tbody>\n",
       "    <tr>\n",
       "      <th>0</th>\n",
       "      <td>859</td>\n",
       "      <td>28</td>\n",
       "      <td>913</td>\n",
       "      <td>google</td>\n",
       "      <td>cpc</td>\n",
       "      <td>25-34</td>\n",
       "    </tr>\n",
       "    <tr>\n",
       "      <th>1</th>\n",
       "      <td>232</td>\n",
       "      <td>18</td>\n",
       "      <td>3157</td>\n",
       "      <td>google</td>\n",
       "      <td>cpc</td>\n",
       "      <td>18-24</td>\n",
       "    </tr>\n",
       "    <tr>\n",
       "      <th>2</th>\n",
       "      <td>2523</td>\n",
       "      <td>1</td>\n",
       "      <td>1208</td>\n",
       "      <td>mytarget</td>\n",
       "      <td>cpc</td>\n",
       "      <td>25-34</td>\n",
       "    </tr>\n",
       "    <tr>\n",
       "      <th>3</th>\n",
       "      <td>4199</td>\n",
       "      <td>36</td>\n",
       "      <td>-275</td>\n",
       "      <td>facebook</td>\n",
       "      <td>cpc</td>\n",
       "      <td>25-34</td>\n",
       "    </tr>\n",
       "    <tr>\n",
       "      <th>4</th>\n",
       "      <td>4069</td>\n",
       "      <td>43</td>\n",
       "      <td>-210</td>\n",
       "      <td>facebook</td>\n",
       "      <td>cpc</td>\n",
       "      <td>25-34</td>\n",
       "    </tr>\n",
       "  </tbody>\n",
       "</table>\n",
       "</div>"
      ],
      "text/plain": [
       "   cust_id  orders   ltv    source medium campaign\n",
       "0      859      28   913    google    cpc    25-34\n",
       "1      232      18  3157    google    cpc    18-24\n",
       "2     2523       1  1208  mytarget    cpc    25-34\n",
       "3     4199      36  -275  facebook    cpc    25-34\n",
       "4     4069      43  -210  facebook    cpc    25-34"
      ]
     },
     "execution_count": 3,
     "metadata": {},
     "output_type": "execute_result"
    }
   ],
   "source": [
    "# divide into columns\n",
    "new_df = df['source'].str.split('&',expand=True)\n",
    "new_df.columns=['source','medium','campaign']\n",
    "for column in new_df.columns:\n",
    "    new_df[column]=new_df[column].str.replace(r'\\w+\\=','')\n",
    "\n",
    "#remove sign \"?\"\n",
    "new_df['source']=new_df['source'].str.replace(r'?','')\n",
    "\n",
    "#Remove to age\n",
    "new_df['campaign']=new_df['campaign'].str.replace(r'\\w+age','')\n",
    "\n",
    "#combine in the final table\n",
    "final_df=pd.concat([df,new_df],axis=1)\n",
    "final_df.columns=['cust_id','source1','orders','ltv','source','medium','campaign']\n",
    "final_df.drop('source1', inplace=True, axis=1)\n",
    "final_df.head()"
   ]
  },
  {
   "cell_type": "code",
   "execution_count": 4,
   "metadata": {},
   "outputs": [
    {
     "data": {
      "text/plain": [
       "array(['cpc'], dtype=object)"
      ]
     },
     "execution_count": 4,
     "metadata": {},
     "output_type": "execute_result"
    }
   ],
   "source": [
    "# Check for uniqueness of \"medium\" values\n",
    "final_df.medium.unique()"
   ]
  },
  {
   "cell_type": "code",
   "execution_count": 5,
   "metadata": {},
   "outputs": [
    {
     "data": {
      "text/plain": [
       "array(['google', 'mytarget', 'facebook'], dtype=object)"
      ]
     },
     "execution_count": 5,
     "metadata": {},
     "output_type": "execute_result"
    }
   ],
   "source": [
    "# Check for uniqueness of \"source\" values\n",
    "final_df.source.unique()"
   ]
  },
  {
   "cell_type": "code",
   "execution_count": 6,
   "metadata": {},
   "outputs": [
    {
     "data": {
      "text/html": [
       "<div>\n",
       "<style scoped>\n",
       "    .dataframe tbody tr th:only-of-type {\n",
       "        vertical-align: middle;\n",
       "    }\n",
       "\n",
       "    .dataframe tbody tr th {\n",
       "        vertical-align: top;\n",
       "    }\n",
       "\n",
       "    .dataframe thead th {\n",
       "        text-align: right;\n",
       "    }\n",
       "</style>\n",
       "<table border=\"1\" class=\"dataframe\">\n",
       "  <thead>\n",
       "    <tr style=\"text-align: right;\">\n",
       "      <th></th>\n",
       "      <th>cust_id</th>\n",
       "      <th>orders</th>\n",
       "      <th>ltv</th>\n",
       "    </tr>\n",
       "  </thead>\n",
       "  <tbody>\n",
       "    <tr>\n",
       "      <th>count</th>\n",
       "      <td>5000.000000</td>\n",
       "      <td>5000.000000</td>\n",
       "      <td>5000.000000</td>\n",
       "    </tr>\n",
       "    <tr>\n",
       "      <th>mean</th>\n",
       "      <td>2500.500000</td>\n",
       "      <td>30.577800</td>\n",
       "      <td>405.193400</td>\n",
       "    </tr>\n",
       "    <tr>\n",
       "      <th>std</th>\n",
       "      <td>1443.520003</td>\n",
       "      <td>17.656441</td>\n",
       "      <td>1133.211199</td>\n",
       "    </tr>\n",
       "    <tr>\n",
       "      <th>min</th>\n",
       "      <td>1.000000</td>\n",
       "      <td>1.000000</td>\n",
       "      <td>-2479.000000</td>\n",
       "    </tr>\n",
       "    <tr>\n",
       "      <th>25%</th>\n",
       "      <td>1250.750000</td>\n",
       "      <td>16.000000</td>\n",
       "      <td>-493.500000</td>\n",
       "    </tr>\n",
       "    <tr>\n",
       "      <th>50%</th>\n",
       "      <td>2500.500000</td>\n",
       "      <td>30.000000</td>\n",
       "      <td>403.500000</td>\n",
       "    </tr>\n",
       "    <tr>\n",
       "      <th>75%</th>\n",
       "      <td>3750.250000</td>\n",
       "      <td>45.000000</td>\n",
       "      <td>1327.000000</td>\n",
       "    </tr>\n",
       "    <tr>\n",
       "      <th>max</th>\n",
       "      <td>5000.000000</td>\n",
       "      <td>64.000000</td>\n",
       "      <td>3240.000000</td>\n",
       "    </tr>\n",
       "  </tbody>\n",
       "</table>\n",
       "</div>"
      ],
      "text/plain": [
       "           cust_id       orders          ltv\n",
       "count  5000.000000  5000.000000  5000.000000\n",
       "mean   2500.500000    30.577800   405.193400\n",
       "std    1443.520003    17.656441  1133.211199\n",
       "min       1.000000     1.000000 -2479.000000\n",
       "25%    1250.750000    16.000000  -493.500000\n",
       "50%    2500.500000    30.000000   403.500000\n",
       "75%    3750.250000    45.000000  1327.000000\n",
       "max    5000.000000    64.000000  3240.000000"
      ]
     },
     "execution_count": 6,
     "metadata": {},
     "output_type": "execute_result"
    }
   ],
   "source": [
    "final_df.describe()"
   ]
  },
  {
   "cell_type": "code",
   "execution_count": 7,
   "metadata": {},
   "outputs": [
    {
     "data": {
      "text/html": [
       "<div>\n",
       "<style scoped>\n",
       "    .dataframe tbody tr th:only-of-type {\n",
       "        vertical-align: middle;\n",
       "    }\n",
       "\n",
       "    .dataframe tbody tr th {\n",
       "        vertical-align: top;\n",
       "    }\n",
       "\n",
       "    .dataframe thead th {\n",
       "        text-align: right;\n",
       "    }\n",
       "</style>\n",
       "<table border=\"1\" class=\"dataframe\">\n",
       "  <thead>\n",
       "    <tr style=\"text-align: right;\">\n",
       "      <th></th>\n",
       "      <th>cust_id</th>\n",
       "      <th>orders</th>\n",
       "      <th>ltv</th>\n",
       "      <th>source</th>\n",
       "      <th>medium</th>\n",
       "      <th>campaign</th>\n",
       "    </tr>\n",
       "  </thead>\n",
       "  <tbody>\n",
       "    <tr>\n",
       "      <th>0</th>\n",
       "      <td>859</td>\n",
       "      <td>28</td>\n",
       "      <td>913</td>\n",
       "      <td>google</td>\n",
       "      <td>cpc</td>\n",
       "      <td>25-34</td>\n",
       "    </tr>\n",
       "    <tr>\n",
       "      <th>1</th>\n",
       "      <td>232</td>\n",
       "      <td>18</td>\n",
       "      <td>3157</td>\n",
       "      <td>google</td>\n",
       "      <td>cpc</td>\n",
       "      <td>18-24</td>\n",
       "    </tr>\n",
       "    <tr>\n",
       "      <th>2</th>\n",
       "      <td>2523</td>\n",
       "      <td>1</td>\n",
       "      <td>1208</td>\n",
       "      <td>mytarget</td>\n",
       "      <td>cpc</td>\n",
       "      <td>25-34</td>\n",
       "    </tr>\n",
       "    <tr>\n",
       "      <th>3</th>\n",
       "      <td>4199</td>\n",
       "      <td>36</td>\n",
       "      <td>-275</td>\n",
       "      <td>facebook</td>\n",
       "      <td>cpc</td>\n",
       "      <td>25-34</td>\n",
       "    </tr>\n",
       "    <tr>\n",
       "      <th>4</th>\n",
       "      <td>4069</td>\n",
       "      <td>43</td>\n",
       "      <td>-210</td>\n",
       "      <td>facebook</td>\n",
       "      <td>cpc</td>\n",
       "      <td>25-34</td>\n",
       "    </tr>\n",
       "  </tbody>\n",
       "</table>\n",
       "</div>"
      ],
      "text/plain": [
       "   cust_id  orders   ltv    source medium campaign\n",
       "0      859      28   913    google    cpc    25-34\n",
       "1      232      18  3157    google    cpc    18-24\n",
       "2     2523       1  1208  mytarget    cpc    25-34\n",
       "3     4199      36  -275  facebook    cpc    25-34\n",
       "4     4069      43  -210  facebook    cpc    25-34"
      ]
     },
     "execution_count": 7,
     "metadata": {},
     "output_type": "execute_result"
    }
   ],
   "source": [
    "final_df.head()"
   ]
  },
  {
   "cell_type": "markdown",
   "metadata": {},
   "source": [
    "# 2. Calculate the average LTV per user, and compare the average number of orders per channel (source). Are there significant differences?\n"
   ]
  },
  {
   "cell_type": "code",
   "execution_count": 8,
   "metadata": {},
   "outputs": [
    {
     "name": "stdout",
     "output_type": "stream",
     "text": [
      "5000\n",
      "(5000, 6)\n"
     ]
    }
   ],
   "source": [
    "# Determine if strings are unique \n",
    "print(len(final_df['cust_id'].unique()))\n",
    "print(final_df.shape)"
   ]
  },
  {
   "cell_type": "code",
   "execution_count": 9,
   "metadata": {},
   "outputs": [
    {
     "name": "stdout",
     "output_type": "stream",
     "text": [
      "average LTV per user= 405.1934\n",
      "average number of orders= 30.5778\n"
     ]
    }
   ],
   "source": [
    "print('average LTV per user=',final_df['ltv'].mean())\n",
    "print('average number of orders=',final_df['orders'].mean())\n"
   ]
  },
  {
   "cell_type": "code",
   "execution_count": 10,
   "metadata": {},
   "outputs": [
    {
     "data": {
      "text/html": [
       "<div>\n",
       "<style scoped>\n",
       "    .dataframe tbody tr th:only-of-type {\n",
       "        vertical-align: middle;\n",
       "    }\n",
       "\n",
       "    .dataframe tbody tr th {\n",
       "        vertical-align: top;\n",
       "    }\n",
       "\n",
       "    .dataframe thead th {\n",
       "        text-align: right;\n",
       "    }\n",
       "</style>\n",
       "<table border=\"1\" class=\"dataframe\">\n",
       "  <thead>\n",
       "    <tr style=\"text-align: right;\">\n",
       "      <th></th>\n",
       "      <th>orders_mean</th>\n",
       "      <th>ltv_mean</th>\n",
       "      <th>orders_differences_%</th>\n",
       "      <th>ltv_differences_%</th>\n",
       "      <th>cust_id_count</th>\n",
       "    </tr>\n",
       "    <tr>\n",
       "      <th>source</th>\n",
       "      <th></th>\n",
       "      <th></th>\n",
       "      <th></th>\n",
       "      <th></th>\n",
       "      <th></th>\n",
       "    </tr>\n",
       "  </thead>\n",
       "  <tbody>\n",
       "    <tr>\n",
       "      <th>facebook</th>\n",
       "      <td>25.516322</td>\n",
       "      <td>359.524983</td>\n",
       "      <td>-16.552785</td>\n",
       "      <td>-11.270770</td>\n",
       "      <td>1501</td>\n",
       "    </tr>\n",
       "    <tr>\n",
       "      <th>google</th>\n",
       "      <td>32.303000</td>\n",
       "      <td>463.286000</td>\n",
       "      <td>5.642002</td>\n",
       "      <td>14.337005</td>\n",
       "      <td>1000</td>\n",
       "    </tr>\n",
       "    <tr>\n",
       "      <th>mytarget</th>\n",
       "      <td>32.927571</td>\n",
       "      <td>409.377351</td>\n",
       "      <td>7.684565</td>\n",
       "      <td>1.032581</td>\n",
       "      <td>2499</td>\n",
       "    </tr>\n",
       "  </tbody>\n",
       "</table>\n",
       "</div>"
      ],
      "text/plain": [
       "          orders_mean    ltv_mean  orders_differences_%  ltv_differences_%  \\\n",
       "source                                                                       \n",
       "facebook    25.516322  359.524983            -16.552785         -11.270770   \n",
       "google      32.303000  463.286000              5.642002          14.337005   \n",
       "mytarget    32.927571  409.377351              7.684565           1.032581   \n",
       "\n",
       "          cust_id_count  \n",
       "source                   \n",
       "facebook           1501  \n",
       "google             1000  \n",
       "mytarget           2499  "
      ]
     },
     "execution_count": 10,
     "metadata": {},
     "output_type": "execute_result"
    }
   ],
   "source": [
    "new=pd.DataFrame(final_df.groupby(['source'])[['orders','ltv']].mean()).rename(columns={'orders':'orders_mean','ltv':'ltv_mean'})\n",
    "new['orders_differences_%']=(new['orders_mean']/final_df['orders'].mean()-1)*100\n",
    "new['ltv_differences_%']=(new['ltv_mean']/final_df['ltv'].mean()-1)*100\n",
    "new['cust_id_count']=final_df.groupby(['source']).cust_id.count()\n",
    "new"
   ]
  },
  {
   "cell_type": "markdown",
   "metadata": {},
   "source": [
    "differences in:\n",
    " \n",
    "1) by **orders** you can see that the facebook channel sags heavily by 16.6%\n",
    " \n",
    "2) **LTV** shows that the facebook channel sags heavily 11.3%\n"
   ]
  },
  {
   "cell_type": "markdown",
   "metadata": {},
   "source": [
    "# 3. Which channel do you think works best?"
   ]
  },
  {
   "cell_type": "markdown",
   "metadata": {},
   "source": [
    "Efficiency can be considered according to different criteria:"
   ]
  },
  {
   "cell_type": "code",
   "execution_count": 11,
   "metadata": {},
   "outputs": [
    {
     "data": {
      "text/html": [
       "<div>\n",
       "<style scoped>\n",
       "    .dataframe tbody tr th:only-of-type {\n",
       "        vertical-align: middle;\n",
       "    }\n",
       "\n",
       "    .dataframe tbody tr th {\n",
       "        vertical-align: top;\n",
       "    }\n",
       "\n",
       "    .dataframe thead th {\n",
       "        text-align: right;\n",
       "    }\n",
       "</style>\n",
       "<table border=\"1\" class=\"dataframe\">\n",
       "  <thead>\n",
       "    <tr style=\"text-align: right;\">\n",
       "      <th></th>\n",
       "      <th>orders_sum</th>\n",
       "      <th>ltv_sum</th>\n",
       "      <th>cust_id_count</th>\n",
       "    </tr>\n",
       "    <tr>\n",
       "      <th>source</th>\n",
       "      <th></th>\n",
       "      <th></th>\n",
       "      <th></th>\n",
       "    </tr>\n",
       "  </thead>\n",
       "  <tbody>\n",
       "    <tr>\n",
       "      <th>facebook</th>\n",
       "      <td>38300</td>\n",
       "      <td>539647</td>\n",
       "      <td>1501</td>\n",
       "    </tr>\n",
       "    <tr>\n",
       "      <th>google</th>\n",
       "      <td>32303</td>\n",
       "      <td>463286</td>\n",
       "      <td>1000</td>\n",
       "    </tr>\n",
       "    <tr>\n",
       "      <th>mytarget</th>\n",
       "      <td>82286</td>\n",
       "      <td>1023034</td>\n",
       "      <td>2499</td>\n",
       "    </tr>\n",
       "  </tbody>\n",
       "</table>\n",
       "</div>"
      ],
      "text/plain": [
       "          orders_sum  ltv_sum  cust_id_count\n",
       "source                                      \n",
       "facebook       38300   539647           1501\n",
       "google         32303   463286           1000\n",
       "mytarget       82286  1023034           2499"
      ]
     },
     "execution_count": 11,
     "metadata": {},
     "output_type": "execute_result"
    }
   ],
   "source": [
    "new_effect=pd.DataFrame(final_df.groupby(['source'])[['orders','ltv',]].sum()).rename(columns={'orders':'orders_sum','ltv':'ltv_sum'})\n",
    "new_effect['cust_id_count']=final_df.groupby(['source']).cust_id.count()\n",
    "new_effect"
   ]
  },
  {
   "cell_type": "markdown",
   "metadata": {},
   "source": [
    "1)  LTV"
   ]
  },
  {
   "cell_type": "code",
   "execution_count": null,
   "metadata": {},
   "outputs": [],
   "source": [
    "fig, ax = plt.subplots(figsize=(6, 6))\n",
    "labels=new_effect.index\n",
    "patches, texts, pcts = ax.pie(\n",
    "    new_effect['ltv_sum'], labels=labels, autopct='%.1f%%',\n",
    "    wedgeprops={'linewidth': 3.0, 'edgecolor': 'white'},\n",
    "    textprops={'size': 'x-large'},\n",
    "    startangle=90)\n",
    "# For each wedge, set the corresponding text label color to the wedge's\n",
    "# face color.\n",
    "for i, patch in enumerate(patches):\n",
    "  texts[i].set_color(patch.get_facecolor())\n",
    "plt.setp(pcts, color='white')\n",
    "plt.setp(texts, fontweight=600)\n",
    "ax.set_title('lifetime value by channel', fontsize=18)\n",
    "plt.tight_layout()"
   ]
  },
  {
   "cell_type": "markdown",
   "metadata": {},
   "source": [
    "2)  orders"
   ]
  },
  {
   "cell_type": "code",
   "execution_count": null,
   "metadata": {},
   "outputs": [],
   "source": [
    "fig, ax = plt.subplots(figsize=(6, 6))\n",
    "labels=new_effect.index\n",
    "patches, texts, pcts = ax.pie(\n",
    "    new_effect['orders_sum'], labels=labels, autopct='%.1f%%',\n",
    "    wedgeprops={'linewidth': 3.0, 'edgecolor': 'white'},\n",
    "    textprops={'size': 'x-large'},\n",
    "    startangle=90)\n",
    "# For each wedge, set the corresponding text label color to the wedge's\n",
    "# face color.\n",
    "for i, patch in enumerate(patches):\n",
    "  texts[i].set_color(patch.get_facecolor())\n",
    "plt.setp(pcts, color='white')\n",
    "plt.setp(texts, fontweight=600)\n",
    "ax.set_title('Orders by channel', fontsize=18)\n",
    "plt.tight_layout()"
   ]
  },
  {
   "cell_type": "markdown",
   "metadata": {},
   "source": [
    "3) by the number of clients attracted"
   ]
  },
  {
   "cell_type": "code",
   "execution_count": null,
   "metadata": {},
   "outputs": [],
   "source": [
    "fig, ax = plt.subplots(figsize=(6, 6))\n",
    "labels=new_effect.index\n",
    "patches, texts, pcts = ax.pie(\n",
    "    new_effect['cust_id_count'], labels=labels, autopct='%.1f%%',\n",
    "    wedgeprops={'linewidth': 3.0, 'edgecolor': 'white'},\n",
    "    textprops={'size': 'x-large'},\n",
    "    startangle=90)\n",
    "# For each wedge, set the corresponding text label color to the wedge's\n",
    "# face color.\n",
    "for i, patch in enumerate(patches):\n",
    "  texts[i].set_color(patch.get_facecolor())\n",
    "plt.setp(pcts, color='white')\n",
    "plt.setp(texts, fontweight=600)\n",
    "ax.set_title('Number of attracted customers by channels', fontsize=18)\n",
    "plt.tight_layout()"
   ]
  },
  {
   "cell_type": "markdown",
   "metadata": {},
   "source": [
    "# 4.  Is it possible to optimize each of the channels?\n"
   ]
  },
  {
   "cell_type": "code",
   "execution_count": null,
   "metadata": {},
   "outputs": [],
   "source": [
    "new=pd.DataFrame(final_df.groupby(['source'])[['orders','ltv']].mean()).rename(columns={'orders':'orders_mean','ltv':'ltv_mean'})\n",
    "new['orders_differences_%']=(new['orders_mean']/final_df['orders'].mean()-1)*100\n",
    "new['ltv_differences_%']=(new['ltv_mean']/final_df['ltv'].mean()-1)*100\n",
    "new['cust_id_count']=final_df.groupby(['source']).cust_id.count()\n"
   ]
  },
  {
   "cell_type": "code",
   "execution_count": null,
   "metadata": {},
   "outputs": [],
   "source": [
    "new_opt=pd.DataFrame(final_df.groupby(['source','campaign'])[['ltv','orders']].mean())\n",
    "new_opt['count_cust']=final_df.groupby(['source','campaign']).cust_id.count()\n",
    "new_opt"
   ]
  },
  {
   "cell_type": "code",
   "execution_count": null,
   "metadata": {},
   "outputs": [],
   "source": [
    "new"
   ]
  },
  {
   "cell_type": "markdown",
   "metadata": {},
   "source": [
    "A) Profit optimization\n",
    "1) **facebook** The number of customers through facebook comes 50% more than through google, but the number of orders and profits are much lower. This shows that there are a lot of customers, but they make a small number of orders. Therefore, as an optimization, it is necessary to work towards increasing or adjusting offers for the target audience (age 25-34) to increase LTV.\n",
    "\n",
    "2) **google** The number of customers from google is the smallest, but the average LTV from google is the largest, therefore, you need to increase the number of customers coming through this channel.\n",
    "\n",
    "3) **mytarget** The number of clients in the 25-34 age group is the largest, but LTV is average. Therefore, you need to increase or adjust offers for the target audience (age 25-34) to increase LTV."
   ]
  },
  {
   "cell_type": "markdown",
   "metadata": {},
   "source": [
    "**Final output:**\n",
    "\n",
    "A) For 2/3 of the channels, it is necessary to work out / rework proposals, with an emphasis on the target audience. In addition, you need to intensify the development of the google channel. it is the most profitable.\n",
    "\n",
    "One of the options for increasing efficiency is a detailed segmentation of the target audience, where an offer is made for each segment of the target audience."
   ]
  },
  {
   "cell_type": "markdown",
   "metadata": {},
   "source": [
    "B) Optimize costs.\n",
    "\n",
    "Dividing into two groups by LTV (positive/negative), it can be seen that the same number of orders were made in these groups.\n",
    "\n",
    "This indicates that about 40% of people bring a loss to the company (negative LTV) and it is worth paying attention to. Example, a person ordered 5 buns for 100 rubles, but the company paid 200 rubles for attracting this client. You need to analyze the basket of such customers, perhaps enter the minimum order amount."
   ]
  },
  {
   "cell_type": "code",
   "execution_count": null,
   "metadata": {},
   "outputs": [],
   "source": [
    "final_df[final_df.ltv<0].cust_id.count()/final_df.cust_id.count()"
   ]
  },
  {
   "cell_type": "code",
   "execution_count": null,
   "metadata": {},
   "outputs": [],
   "source": [
    "pd.DataFrame(final_df[final_df.ltv>0].groupby(['campaign','source']).orders.mean())"
   ]
  },
  {
   "cell_type": "code",
   "execution_count": null,
   "metadata": {},
   "outputs": [],
   "source": [
    "pd.DataFrame(final_df[final_df.ltv<0].groupby(['campaign','source']).orders.mean())"
   ]
  },
  {
   "cell_type": "code",
   "execution_count": null,
   "metadata": {},
   "outputs": [],
   "source": [
    "final_df[final_df.ltv>0].groupby('campaign').cust_id.count()"
   ]
  },
  {
   "cell_type": "markdown",
   "metadata": {},
   "source": [
    "You can also:\n",
    "\n",
    "2) Increase the average check through incentive promotions, upselling and cross-selling technologies.\n",
    "\n",
    "3) Increase the frequency of purchases, for example, through the use of email channels, push notifications and retargeting."
   ]
  },
  {
   "cell_type": "code",
   "execution_count": null,
   "metadata": {},
   "outputs": [],
   "source": [
    "new1=pd.DataFrame(final_df.groupby(['source','campaign'])[['orders','ltv']].sum())\n",
    "new1\n"
   ]
  },
  {
   "cell_type": "markdown",
   "metadata": {},
   "source": [
    "# Suggest and calculate 2-3 more indicators that characterize the quality of the groups of the attracted audience."
   ]
  },
  {
   "cell_type": "markdown",
   "metadata": {},
   "source": [
    "### 1) Group profitability"
   ]
  },
  {
   "cell_type": "code",
   "execution_count": null,
   "metadata": {},
   "outputs": [],
   "source": [
    "pd.DataFrame(final_df.groupby('campaign').ltv.sum()).rename(columns={'ltv':'sum_ltv'})"
   ]
  },
  {
   "cell_type": "markdown",
   "metadata": {},
   "source": [
    "### 2) Number of clients by groups"
   ]
  },
  {
   "cell_type": "code",
   "execution_count": null,
   "metadata": {
    "scrolled": true
   },
   "outputs": [],
   "source": [
    "pd.DataFrame(final_df.groupby('campaign').cust_id.count()).rename(columns={'cust_id':'count_cust'})"
   ]
  },
  {
   "cell_type": "markdown",
   "metadata": {},
   "source": [
    "### 3) Median check"
   ]
  },
  {
   "cell_type": "code",
   "execution_count": null,
   "metadata": {},
   "outputs": [],
   "source": [
    "pd.DataFrame(final_df.groupby('campaign').ltv.median()).rename(columns={'ltv':'ltv_median'})"
   ]
  },
  {
   "cell_type": "markdown",
   "metadata": {},
   "source": [
    "### 4) Share of profitable clients"
   ]
  },
  {
   "cell_type": "code",
   "execution_count": null,
   "metadata": {},
   "outputs": [],
   "source": [
    "final_df_profit=final_df[final_df.ltv<0].groupby('campaign').cust_id.count()\n",
    "final_df_no_profit=final_df[final_df.ltv>0].groupby('campaign').cust_id.count()\n",
    "pd.DataFrame(final_df_profit/final_df_no_profit).rename(columns={'cust_id':'proportion'})"
   ]
  },
  {
   "cell_type": "markdown",
   "metadata": {},
   "source": [
    "**Group 18-24**\n",
    "\n",
    "has a high indicator: in terms of the share of clients that make a profit\n",
    "\n",
    "low score: median check.\n",
    "\n",
    "**Group 25-34**\n",
    "\n",
    "has a high indicator: the number of customers and the profitability of the group\n",
    "\n",
    "low indicator: in terms of the share of customers that make a profit.\n",
    "\n",
    "**Group 35+**\n",
    "\n",
    "has a high indicator: median check\n",
    "\n",
    "low score: number of clients and group profitability"
   ]
  },
  {
   "cell_type": "code",
   "execution_count": null,
   "metadata": {},
   "outputs": [],
   "source": []
  }
 ],
 "metadata": {
  "kernelspec": {
   "display_name": "Python 3",
   "language": "python",
   "name": "python3"
  },
  "language_info": {
   "codemirror_mode": {
    "name": "ipython",
    "version": 3
   },
   "file_extension": ".py",
   "mimetype": "text/x-python",
   "name": "python",
   "nbconvert_exporter": "python",
   "pygments_lexer": "ipython3",
   "version": "3.8.8"
  }
 },
 "nbformat": 4,
 "nbformat_minor": 4
}
